{
 "cells": [
  {
   "cell_type": "code",
   "execution_count": 1,
   "id": "9391e629-6cb7-49dd-9d0b-d3b37a7afebb",
   "metadata": {},
   "outputs": [
    {
     "name": "stdin",
     "output_type": "stream",
     "text": [
      "Enter numbers:  45 23 56\n"
     ]
    },
    {
     "name": "stdout",
     "output_type": "stream",
     "text": [
      "[45.0, 23.0, 56.0]\n"
     ]
    }
   ],
   "source": [
    "import numpy as np  #1st Question \n",
    "numbers = input(\"Enter numbers: \")\n",
    "numbers = [float(x) if x.lower() != 'none' else None for x in numbers.split()]\n",
    "numbers = np.array(numbers, dtype=float)\n",
    "mean_value = np.nanmean(numbers)\n",
    "numbers = np.where(np.isnan(numbers), mean_value, numbers)\n",
    "print(numbers.tolist())"
   ]
  },
  {
   "cell_type": "code",
   "execution_count": 2,
   "id": "a26344cb-85da-482d-9f12-26956dae5b09",
   "metadata": {},
   "outputs": [
    {
     "name": "stdin",
     "output_type": "stream",
     "text": [
      "Enter numbers:  22 78 69 45 10 2\n"
     ]
    },
    {
     "name": "stdout",
     "output_type": "stream",
     "text": [
      "[0.2631578947368421, 1.0, 0.881578947368421, 0.5657894736842105, 0.10526315789473684, 0.0]\n"
     ]
    }
   ],
   "source": [
    "def min_max_scaling(numbers):  #2nd Question\n",
    "    min_val = min(numbers)\n",
    "    max_val = max(numbers)\n",
    "    return [(x - min_val) / (max_val - min_val) for x in numbers]\n",
    "numbers = list(map(float, input(\"Enter numbers: \").split()))\n",
    "scaled_numbers = min_max_scaling(numbers)\n",
    "print(scaled_numbers)"
   ]
  },
  {
   "cell_type": "code",
   "execution_count": 3,
   "id": "21d4affc-05ff-42d6-8a89-9387965b1003",
   "metadata": {},
   "outputs": [
    {
     "name": "stdin",
     "output_type": "stream",
     "text": [
      "Enter numbers:  75 39 65\n",
      "Enter the threshold:  75\n"
     ]
    },
    {
     "name": "stdout",
     "output_type": "stream",
     "text": [
      "[1, 0, 0]\n"
     ]
    }
   ],
   "source": [
    "def binarize(numbers, threshold):   #3rd Question\n",
    "    return [1 if x >= threshold else 0 for x in numbers]\n",
    "numbers = list(map(float, input(\"Enter numbers: \").split()))\n",
    "threshold = float(input(\"Enter the threshold: \"))\n",
    "binarized_numbers = binarize(numbers, threshold)\n",
    "print(binarized_numbers)"
   ]
  },
  {
   "cell_type": "code",
   "execution_count": 4,
   "id": "f8981891-cce5-45a2-a0cb-1e2c58771345",
   "metadata": {},
   "outputs": [
    {
     "name": "stdout",
     "output_type": "stream",
     "text": [
      "[5, 7, 9]\n"
     ]
    }
   ],
   "source": [
    "def f(x):   #4th Question\n",
    "    return 2 * x + 3\n",
    "def approximate(inputs):\n",
    "    return [f(x) for x in inputs]\n",
    "inputs = [1, 2, 3]\n",
    "outputs = approximate(inputs)\n",
    "print(outputs)\n"
   ]
  },
  {
   "cell_type": "code",
   "execution_count": 5,
   "id": "76c57b92-78e4-4c91-82f6-4b55cc5a10b4",
   "metadata": {},
   "outputs": [
    {
     "name": "stdin",
     "output_type": "stream",
     "text": [
      "Enter numbers:  44 56 88\n"
     ]
    },
    {
     "name": "stdout",
     "output_type": "stream",
     "text": [
      "Standardized numbers: [-1.0051414220648331, -0.3589790793088689, 1.3641205013737026]\n"
     ]
    }
   ],
   "source": [
    "import math #5th Question\n",
    "def standardize(numbers):\n",
    "    mean = sum(numbers) / len(numbers)\n",
    "    stdev = math.sqrt(sum((x - mean) ** 2 for x in numbers) / len(numbers))\n",
    "    return [(x - mean) / stdev for x in numbers]\n",
    "user_input = input(\"Enter numbers: \")\n",
    "inputs = list(map(int, user_input.split()))\n",
    "standardized_numbers = standardize(inputs)\n",
    "print(f\"Standardized numbers: {standardized_numbers}\")"
   ]
  },
  {
   "cell_type": "code",
   "execution_count": 6,
   "id": "3ee7720b-f4df-4af0-811d-363d89b604db",
   "metadata": {},
   "outputs": [
    {
     "name": "stdin",
     "output_type": "stream",
     "text": [
      "Enter data points separated by spaces:  44 55 66\n",
      "Enter labels corresponding to each data point:  4 5 6\n"
     ]
    },
    {
     "name": "stdout",
     "output_type": "stream",
     "text": [
      "{'4': [44], '5': [55], '6': [66]}\n"
     ]
    }
   ],
   "source": [
    "from collections import defaultdict #6th Question\n",
    "user_data = input(\"Enter data points separated by spaces: \")\n",
    "user_labels = input(\"Enter labels corresponding to each data point: \")\n",
    "data = list(map(int, user_data.split()))\n",
    "labels = user_labels.split()\n",
    "concept_representation = defaultdict(list)\n",
    "for point, label in zip(data, labels):\n",
    "    concept_representation[label].append(point)\n",
    "concept_representation = dict(concept_representation)\n",
    "print(concept_representation)\n"
   ]
  },
  {
   "cell_type": "code",
   "execution_count": 7,
   "id": "7667fc64-63e7-444c-8f57-09dc7282ab44",
   "metadata": {},
   "outputs": [
    {
     "name": "stdout",
     "output_type": "stream",
     "text": [
      "Supervised Learning\n"
     ]
    }
   ],
   "source": [
    "def categorize_task(description): #7th Question\n",
    "    if \"predict\" in description.lower():\n",
    "        return \"Supervised Learning\"\n",
    "    else:\n",
    "        return \"Unsupervised Learning\"\n",
    "description = \"Predict the price of a house based on features like size, location, and age.\"\n",
    "category = categorize_task(description)\n",
    "print(category)"
   ]
  },
  {
   "cell_type": "code",
   "execution_count": 10,
   "id": "006c5720-03d1-417b-911f-bf0a8cd9ab48",
   "metadata": {},
   "outputs": [
    {
     "name": "stdout",
     "output_type": "stream",
     "text": [
      "Unsupervised Learning\n"
     ]
    }
   ],
   "source": [
    "def categorize_task(description): #8th Question\n",
    "    if \"predict\" in description.lower():\n",
    "        return \"Supervised Learning\"\n",
    "    else:\n",
    "        return \"Unsupervised Learning\"\n",
    "description = \"Group customers based on their purchasing patterns.\"\n",
    "category = categorize_task(description)\n",
    "print(category)\n"
   ]
  },
  {
   "cell_type": "code",
   "execution_count": 11,
   "id": "b07833ed-0089-472a-9339-eba008a39820",
   "metadata": {},
   "outputs": [
    {
     "name": "stdin",
     "output_type": "stream",
     "text": [
      "Enter the slope (m):  1\n",
      "Enter the y-intercept (c):  2\n",
      "Enter the input value (x):  3\n"
     ]
    },
    {
     "name": "stdout",
     "output_type": "stream",
     "text": [
      "5.0\n"
     ]
    }
   ],
   "source": [
    "def predict_y(m, c, x): #9th Question--User Input\n",
    "    return m * x + c\n",
    "m = float(input(\"Enter the slope (m): \"))\n",
    "c = float(input(\"Enter the y-intercept (c): \"))\n",
    "x = float(input(\"Enter the input value (x): \"))\n",
    "y = predict_y(m, c, x)\n",
    "print(y)\n"
   ]
  },
  {
   "cell_type": "code",
   "execution_count": 12,
   "id": "5cdf0fdf-9314-48dc-80a1-39835c4d7a69",
   "metadata": {},
   "outputs": [
    {
     "name": "stdin",
     "output_type": "stream",
     "text": [
      "Enter numbers separated by spaces:  22 44 66\n"
     ]
    },
    {
     "name": "stdout",
     "output_type": "stream",
     "text": [
      "[22, 44, 66]\n"
     ]
    }
   ],
   "source": [
    "def remove_duplicates_and_sort(data): #10th Question\n",
    "    return sorted(set(data))\n",
    "user_input = input(\"Enter numbers separated by spaces: \")\n",
    "data = list(map(int, user_input.split()))\n",
    "result = remove_duplicates_and_sort(data)\n",
    "print(result)\n"
   ]
  },
  {
   "cell_type": "code",
   "execution_count": null,
   "id": "7a4adaac-7155-4ec5-9737-0322d36a5b91",
   "metadata": {},
   "outputs": [],
   "source": []
  }
 ],
 "metadata": {
  "kernelspec": {
   "display_name": "Python 3 (ipykernel)",
   "language": "python",
   "name": "python3"
  },
  "language_info": {
   "codemirror_mode": {
    "name": "ipython",
    "version": 3
   },
   "file_extension": ".py",
   "mimetype": "text/x-python",
   "name": "python",
   "nbconvert_exporter": "python",
   "pygments_lexer": "ipython3",
   "version": "3.12.7"
  }
 },
 "nbformat": 4,
 "nbformat_minor": 5
}
